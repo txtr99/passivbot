{
 "cells": [
  {
   "cell_type": "code",
   "execution_count": null,
   "metadata": {},
   "outputs": [],
   "source": [
    "%load_ext autoreload\n",
    "%autoreload 2"
   ]
  },
  {
   "cell_type": "code",
   "execution_count": null,
   "metadata": {},
   "outputs": [],
   "source": [
    "from procedures import (\n",
    "    create_binance_bot,\n",
    "    create_binance_bot_spot,\n",
    "    create_bybit_bot,\n",
    "    load_exchange_key_secret,\n",
    ")\n",
    "from pure_funcs import get_template_live_config, ts_to_date, get_daily_from_income\n",
    "from njit_funcs import round_dynamic\n",
    "from time import time\n",
    "import pandas as pd\n",
    "import matplotlib.pyplot as plt"
   ]
  },
  {
   "cell_type": "code",
   "execution_count": null,
   "metadata": {},
   "outputs": [],
   "source": [
    "plt.rcParams[\"figure.figsize\"] = [21, 13]\n",
    "pd.set_option(\"precision\", 10)"
   ]
  },
  {
   "cell_type": "code",
   "execution_count": null,
   "metadata": {},
   "outputs": [],
   "source": [
    "config = get_template_live_config()\n",
    "config[\"market_type\"] = \"futures\"\n",
    "config[\"user\"] = \"user_name\"\n",
    "config[\"exchange\"], _, _ = load_exchange_key_secret(config[\"user\"])\n",
    "\n",
    "n_days = 30\n",
    "start_time = (time() - 60 * 60 * 24 * n_days) * 1000\n",
    "end_time = time() * 1000\n",
    "\n",
    "symbols = [\n",
    "    \"XRPUSDT\",\n",
    "    \"XLMUSDT\",\n",
    "    \"ADAUSDT\",\n",
    "    \"EOSUSDT\",\n",
    "    \"BNBUSDT\",\n",
    "    \"LINKUSDT\",\n",
    "    \"COMPUSDT\",\n",
    "    \"FILUSDT\",\n",
    "]\n",
    "\n",
    "incomes = []\n",
    "# binance fetches income for all symbols; bybit only one symbol at a time\n",
    "for symbol in symbols if config[\"exchange\"] == \"bybit\" else symbols[:1]:\n",
    "    config[\"symbol\"] = symbol\n",
    "    try:\n",
    "        await bot.session.close()\n",
    "    except:\n",
    "        pass\n",
    "    if config[\"exchange\"] == \"binance\":\n",
    "        if config[\"market_type\"] == \"spot\":\n",
    "            bot = await create_binance_bot_spot(config)\n",
    "        else:\n",
    "            bot = await create_binance_bot(config)\n",
    "    elif config[\"exchange\"] == \"bybit\":\n",
    "        bot = await create_bybit_bot(config)\n",
    "\n",
    "    await bot.update_position()\n",
    "    balance = bot.position[\"wallet_balance\"]\n",
    "\n",
    "    income = await bot.get_all_income(start_time=start_time)\n",
    "    incomes += income\n",
    "idf, bdf = get_daily_from_income(\n",
    "    sorted(incomes, key=lambda x: x[\"timestamp\"]),\n",
    "    bot.position[\"wallet_balance\"],\n",
    "    start_time=start_time,\n",
    "    end_time=end_time,\n",
    ")"
   ]
  },
  {
   "cell_type": "code",
   "execution_count": null,
   "metadata": {},
   "outputs": [],
   "source": [
    "print(f\"current balance {round_dynamic(balance, 5)}\")\n",
    "print(f'abs sum {round_dynamic(idf.income.sum(), 4)} {idf.iloc[-1][\"token\"]}')\n",
    "print(f'abs adg {round_dynamic(idf.income.sum() / n_days, 4)} {idf.iloc[-1][\"token\"]}')\n",
    "print(f\"pct sum {((balance + idf.income.sum()) / balance) - 1:.5f}\")\n",
    "print(f\"pct adg {((balance + idf.income.sum()) / balance) ** (1 / n_days) - 1:.5f}\")\n",
    "\n",
    "idf.income.cumsum().plot()"
   ]
  },
  {
   "cell_type": "code",
   "execution_count": null,
   "metadata": {},
   "outputs": [],
   "source": [
    "idf.tail(20)"
   ]
  },
  {
   "cell_type": "code",
   "execution_count": null,
   "metadata": {},
   "outputs": [],
   "source": [
    "bdf"
   ]
  },
  {
   "cell_type": "code",
   "execution_count": null,
   "metadata": {},
   "outputs": [],
   "source": [
    "bdf.gain.plot()"
   ]
  },
  {
   "cell_type": "code",
   "execution_count": null,
   "metadata": {},
   "outputs": [],
   "source": [
    "# check income last x days\n",
    "x = 3\n",
    "since = (time() - 60 * 60 * 24 * x) * 1000\n",
    "idf[idf.timestamp > since].groupby(\"symbol\").income.sum().sort_values()"
   ]
  },
  {
   "cell_type": "code",
   "execution_count": null,
   "metadata": {},
   "outputs": [],
   "source": []
  },
  {
   "cell_type": "code",
   "execution_count": null,
   "metadata": {},
   "outputs": [],
   "source": []
  },
  {
   "cell_type": "code",
   "execution_count": null,
   "metadata": {},
   "outputs": [],
   "source": []
  },
  {
   "cell_type": "code",
   "execution_count": null,
   "metadata": {},
   "outputs": [],
   "source": []
  }
 ],
 "metadata": {
  "kernelspec": {
   "display_name": "Python 3",
   "language": "python",
   "name": "python3"
  },
  "language_info": {
   "codemirror_mode": {
    "name": "ipython",
    "version": 3
   },
   "file_extension": ".py",
   "mimetype": "text/x-python",
   "name": "python",
   "nbconvert_exporter": "python",
   "pygments_lexer": "ipython3",
   "version": "3.8.3"
  }
 },
 "nbformat": 4,
 "nbformat_minor": 4
}
