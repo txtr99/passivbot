{
 "cells": [
  {
   "cell_type": "code",
   "execution_count": null,
   "id": "5d04cc5b-ff14-4d8a-8b01-36d4935897ca",
   "metadata": {},
   "outputs": [],
   "source": [
    "%load_ext autoreload\n",
    "%autoreload 2"
   ]
  },
  {
   "cell_type": "code",
   "execution_count": 1,
   "id": "38c240d7-c65b-457b-a10f-7a8f24dccf96",
   "metadata": {
    "tags": []
   },
   "outputs": [
    {
     "name": "stdout",
     "output_type": "stream",
     "text": [
      "using numba\n"
     ]
    },
    {
     "ename": "ModuleNotFoundError",
     "evalue": "No module named 'numba'",
     "output_type": "error",
     "traceback": [
      "\u001b[0;31m---------------------------------------------------------------------------\u001b[0m",
      "\u001b[0;31mModuleNotFoundError\u001b[0m                       Traceback (most recent call last)",
      "\u001b[0;32m/var/folders/m0/gjx5p2r911q5b0w9w76hm3hw0000gn/T/ipykernel_33827/4222248313.py\u001b[0m in \u001b[0;36m<module>\u001b[0;34m\u001b[0m\n\u001b[0;32m----> 1\u001b[0;31m \u001b[0;32mfrom\u001b[0m \u001b[0mbacktest\u001b[0m \u001b[0;32mimport\u001b[0m \u001b[0mbacktest\u001b[0m\u001b[0;34m\u001b[0m\u001b[0;34m\u001b[0m\u001b[0m\n\u001b[0m\u001b[1;32m      2\u001b[0m \u001b[0;32mfrom\u001b[0m \u001b[0mplotting\u001b[0m \u001b[0;32mimport\u001b[0m \u001b[0mplot_fills\u001b[0m\u001b[0;34m\u001b[0m\u001b[0;34m\u001b[0m\u001b[0m\n\u001b[1;32m      3\u001b[0m \u001b[0;32mfrom\u001b[0m \u001b[0mdownloader\u001b[0m \u001b[0;32mimport\u001b[0m \u001b[0mDownloader\u001b[0m\u001b[0;34m\u001b[0m\u001b[0;34m\u001b[0m\u001b[0m\n\u001b[1;32m      4\u001b[0m from pure_funcs import (\n\u001b[1;32m      5\u001b[0m     \u001b[0mdenumpyize\u001b[0m\u001b[0;34m,\u001b[0m\u001b[0;34m\u001b[0m\u001b[0;34m\u001b[0m\u001b[0m\n",
      "\u001b[0;32m~/repos/passivbot/backtest.py\u001b[0m in \u001b[0;36m<module>\u001b[0;34m\u001b[0m\n\u001b[1;32m     10\u001b[0m \u001b[0;32mimport\u001b[0m \u001b[0mpandas\u001b[0m \u001b[0;32mas\u001b[0m \u001b[0mpd\u001b[0m\u001b[0;34m\u001b[0m\u001b[0;34m\u001b[0m\u001b[0m\n\u001b[1;32m     11\u001b[0m \u001b[0;34m\u001b[0m\u001b[0m\n\u001b[0;32m---> 12\u001b[0;31m \u001b[0;32mfrom\u001b[0m \u001b[0mdownloader\u001b[0m \u001b[0;32mimport\u001b[0m \u001b[0mDownloader\u001b[0m\u001b[0;34m\u001b[0m\u001b[0;34m\u001b[0m\u001b[0m\n\u001b[0m\u001b[1;32m     13\u001b[0m \u001b[0;32mfrom\u001b[0m \u001b[0mnjit_funcs\u001b[0m \u001b[0;32mimport\u001b[0m \u001b[0mnjit_backtest\u001b[0m\u001b[0;34m,\u001b[0m \u001b[0mround_\u001b[0m\u001b[0;34m\u001b[0m\u001b[0;34m\u001b[0m\u001b[0m\n\u001b[1;32m     14\u001b[0m \u001b[0;32mfrom\u001b[0m \u001b[0mplotting\u001b[0m \u001b[0;32mimport\u001b[0m \u001b[0mdump_plots\u001b[0m\u001b[0;34m\u001b[0m\u001b[0;34m\u001b[0m\u001b[0m\n",
      "\u001b[0;32m~/repos/passivbot/downloader.py\u001b[0m in \u001b[0;36m<module>\u001b[0;34m\u001b[0m\n\u001b[1;32m     15\u001b[0m \u001b[0;32mfrom\u001b[0m \u001b[0mdateutil\u001b[0m \u001b[0;32mimport\u001b[0m \u001b[0mparser\u001b[0m\u001b[0;34m\u001b[0m\u001b[0;34m\u001b[0m\u001b[0m\n\u001b[1;32m     16\u001b[0m \u001b[0;34m\u001b[0m\u001b[0m\n\u001b[0;32m---> 17\u001b[0;31m \u001b[0;32mfrom\u001b[0m \u001b[0mnjit_funcs\u001b[0m \u001b[0;32mimport\u001b[0m \u001b[0mcalc_samples\u001b[0m\u001b[0;34m\u001b[0m\u001b[0;34m\u001b[0m\u001b[0m\n\u001b[0m\u001b[1;32m     18\u001b[0m \u001b[0;32mfrom\u001b[0m \u001b[0mprocedures\u001b[0m \u001b[0;32mimport\u001b[0m \u001b[0mprepare_backtest_config\u001b[0m\u001b[0;34m,\u001b[0m \u001b[0mmake_get_filepath\u001b[0m\u001b[0;34m,\u001b[0m \u001b[0mcreate_binance_bot\u001b[0m\u001b[0;34m,\u001b[0m \u001b[0mcreate_bybit_bot\u001b[0m\u001b[0;34m,\u001b[0m\u001b[0;31m \u001b[0m\u001b[0;31m\\\u001b[0m\u001b[0;34m\u001b[0m\u001b[0;34m\u001b[0m\u001b[0m\n\u001b[1;32m     19\u001b[0m     \u001b[0mcreate_binance_bot_spot\u001b[0m\u001b[0;34m,\u001b[0m \u001b[0mprint_\u001b[0m\u001b[0;34m,\u001b[0m \u001b[0madd_argparse_args\u001b[0m\u001b[0;34m,\u001b[0m \u001b[0mutc_ms\u001b[0m\u001b[0;34m\u001b[0m\u001b[0;34m\u001b[0m\u001b[0m\n",
      "\u001b[0;32m~/repos/passivbot/njit_funcs.py\u001b[0m in \u001b[0;36m<module>\u001b[0;34m\u001b[0m\n\u001b[1;32m     18\u001b[0m \u001b[0;32melse\u001b[0m\u001b[0;34m:\u001b[0m\u001b[0;34m\u001b[0m\u001b[0;34m\u001b[0m\u001b[0m\n\u001b[1;32m     19\u001b[0m     \u001b[0mprint\u001b[0m\u001b[0;34m(\u001b[0m\u001b[0;34m'using numba'\u001b[0m\u001b[0;34m)\u001b[0m\u001b[0;34m\u001b[0m\u001b[0;34m\u001b[0m\u001b[0m\n\u001b[0;32m---> 20\u001b[0;31m     \u001b[0;32mfrom\u001b[0m \u001b[0mnumba\u001b[0m \u001b[0;32mimport\u001b[0m \u001b[0mnjit\u001b[0m\u001b[0;34m\u001b[0m\u001b[0;34m\u001b[0m\u001b[0m\n\u001b[0m\u001b[1;32m     21\u001b[0m \u001b[0;34m\u001b[0m\u001b[0m\n\u001b[1;32m     22\u001b[0m \u001b[0;34m\u001b[0m\u001b[0m\n",
      "\u001b[0;31mModuleNotFoundError\u001b[0m: No module named 'numba'"
     ]
    }
   ],
   "source": [
    "from backtest import backtest\n",
    "from plotting import plot_fills\n",
    "from downloader import Downloader\n",
    "from pure_funcs import (\n",
    "    denumpyize,\n",
    "    numpyize,\n",
    "    candidate_to_live_config,\n",
    "    calc_spans,\n",
    "    analyze_fills,\n",
    "    create_xk,\n",
    "    round_dynamic,\n",
    "    round_values,\n",
    ")\n",
    "from njit_funcs import *\n",
    "from procedures import (\n",
    "    dump_live_config,\n",
    "    load_live_config,\n",
    "    add_argparse_args,\n",
    "    prepare_backtest_config,\n",
    "    make_get_filepath,\n",
    ")\n",
    "from time import time\n",
    "import sys\n",
    "import argparse\n",
    "import pprint\n",
    "import matplotlib.pyplot as plt\n",
    "import json\n",
    "import pandas as pd\n",
    "import numpy as np"
   ]
  },
  {
   "cell_type": "code",
   "execution_count": null,
   "id": "c81212aa-6395-46b5-9b57-f6a8d7faa245",
   "metadata": {},
   "outputs": [],
   "source": [
    "plt.rcParams[\"figure.figsize\"] = [29, 18]\n",
    "plt.rcParams[\"figure.facecolor\"] = \"w\"\n",
    "pd.set_option(\"precision\", 10)"
   ]
  },
  {
   "cell_type": "code",
   "execution_count": null,
   "id": "457aed4f-fa83-4cd9-bd74-d6c89b4e269d",
   "metadata": {
    "tags": []
   },
   "outputs": [],
   "source": [
    "class Args:\n",
    "    def __init__(self):\n",
    "        self.backtest_config_path = \"configs/backtest/multi_84_symbols.json\"\n",
    "        self.exchange = \"binance\"\n",
    "        self.symbol = \"ADAUSDT\"\n",
    "        self.market_type = \"futures\"\n",
    "        self.user = \"binance_01\"\n",
<<<<<<< HEAD
    "        self.start_date = \"2022-01-01\"\n",
    "        self.end_date = \"2022-01-20\"\n",
    "        self.starting_balance = 1900.0\n",
=======
    "        self.start_date = \"2021-05-01\"\n",
    "        self.end_date = \"2022-01-19\"\n",
    "        self.starting_balance = 10000.0\n",
>>>>>>> 7e0e481b73e854669d0969660cee042a8af58570
    "        self.starting_configs = \"\"\n",
    "        self.base_dir = \"backtests\"\n",
    "\n",
    "\n",
    "config = await prepare_backtest_config(Args())\n",
    "dl = Downloader(config)\n",
    "sts = time()\n",
    "data = await dl.get_sampled_ticks()\n",
    "timestamps = data[:, 0]\n",
    "qtys = data[:, 1]\n",
    "prices = data[:, 2]\n",
    "config[\"n_days\"] = (timestamps[-1] - timestamps[0]) / (1000 * 60 * 60 * 24)\n",
    "\n",
    "print(f\"millis to load {len(prices)} ticks {(time() - sts) * 1000:.0f}ms\")"
   ]
  },
  {
   "cell_type": "code",
   "execution_count": null,
   "id": "f38d8fd3-ccf4-4465-837b-24abaa121cee",
   "metadata": {},
   "outputs": [],
   "source": [
    "df = pd.DataFrame({\"timestamp\": timestamps, \"qty\": qtys, \"price\": prices}).set_index(\"timestamp\")\n",
    "df.price.iloc[::100].plot(title=\"Coin Price\", xlabel=\"Time\", ylabel=\"Price\")"
   ]
  },
  {
   "cell_type": "code",
   "execution_count": null,
   "id": "7239f8ed-1096-41ba-809b-00bb188ceb97",
   "metadata": {},
   "outputs": [],
   "source": [
    "# choose a slice on which to test\n",
    "wsize_days = 365\n",
    "ts = int(data[-1][0] - 60 * 60 * 24 * 1000 * wsize_days)\n",
    "idx = np.argmax(data[:, 0] >= ts)\n",
    "dataslice = data[idx:]"
   ]
  },
  {
   "cell_type": "code",
   "execution_count": 1,
   "id": "93168599-63a4-40d0-b9df-bd15a62657ac",
   "metadata": {},
   "outputs": [
    {
     "ename": "NameError",
     "evalue": "name 'round_values' is not defined",
     "output_type": "error",
     "traceback": [
      "\u001b[0;31m---------------------------------------------------------------------------\u001b[0m",
      "\u001b[0;31mNameError\u001b[0m                                 Traceback (most recent call last)",
      "\u001b[0;32m/var/folders/m0/gjx5p2r911q5b0w9w76hm3hw0000gn/T/ipykernel_33316/745298956.py\u001b[0m in \u001b[0;36m<module>\u001b[0;34m\u001b[0m\n\u001b[1;32m     29\u001b[0m \u001b[0;34m\u001b[0m\u001b[0m\n\u001b[1;32m     30\u001b[0m \u001b[0;31m# round for better human readability\u001b[0m\u001b[0;34m\u001b[0m\u001b[0;34m\u001b[0m\u001b[0m\n\u001b[0;32m---> 31\u001b[0;31m \u001b[0mhand_tuned\u001b[0m \u001b[0;34m=\u001b[0m \u001b[0mround_values\u001b[0m\u001b[0;34m(\u001b[0m\u001b[0mhand_tuned\u001b[0m\u001b[0;34m,\u001b[0m \u001b[0;36m4\u001b[0m\u001b[0;34m)\u001b[0m\u001b[0;34m\u001b[0m\u001b[0;34m\u001b[0m\u001b[0m\n\u001b[0m\u001b[1;32m     32\u001b[0m \u001b[0mconfig\u001b[0m\u001b[0;34m[\u001b[0m\u001b[0;34m\"starting_balance\"\u001b[0m\u001b[0;34m]\u001b[0m \u001b[0;34m=\u001b[0m \u001b[0mArgs\u001b[0m\u001b[0;34m(\u001b[0m\u001b[0;34m)\u001b[0m\u001b[0;34m.\u001b[0m\u001b[0mstarting_balance\u001b[0m\u001b[0;34m\u001b[0m\u001b[0;34m\u001b[0m\u001b[0m\n\u001b[1;32m     33\u001b[0m \u001b[0mconfig\u001b[0m\u001b[0;34m[\u001b[0m\u001b[0;34m\"latency_simulation_ms\"\u001b[0m\u001b[0;34m]\u001b[0m \u001b[0;34m=\u001b[0m \u001b[0;36m1000\u001b[0m\u001b[0;34m\u001b[0m\u001b[0;34m\u001b[0m\u001b[0m\n",
      "\u001b[0;31mNameError\u001b[0m: name 'round_values' is not defined"
     ]
    }
   ],
   "source": [
    "hand_tuned = {\n",
    "    \"config_name\": \"v5.3_test\",\n",
    "    \"logging_level\": 0,\n",
<<<<<<< HEAD
    "    \"long\": {\"enabled\": True,\n",
    "            \"eprice_exp_base\": 1,\n",
    "            \"eprice_pprice_diff\": 0.001,\n",
    "            \"grid_span\": 0.005,\n",
    "            \"initial_qty_pct\": 0.10,\n",
    "            \"markup_range\": 0.005,\n",
    "            \"max_n_entry_orders\": 10,\n",
    "            \"min_markup\": 0.0006,\n",
    "            \"n_close_orders\": 3,\n",
    "            \"pbr_limit\": 0.15,\n",
    "            \"secondary_pbr_allocation\": 0.30,\n",
    "            \"secondary_pprice_diff\": 0.05},\n",
    " \"shrt\": {\"enabled\": True,\n",
    "            \"eprice_exp_base\": 1,\n",
    "            \"eprice_pprice_diff\": 0.001,\n",
    "            \"grid_span\": 0.005,\n",
    "            \"initial_qty_pct\": 0.10,\n",
    "            \"markup_range\": 0.005,\n",
    "            \"max_n_entry_orders\": 10,\n",
    "            \"min_markup\": 0.0006,\n",
    "            \"n_close_orders\": 3,\n",
    "            \"pbr_limit\": 0.15,\n",
    "            \"secondary_pbr_allocation\": 0.30,\n",
    "            \"secondary_pprice_diff\": 0.05}\n",
=======
    "    \"long\": {\n",
    "        \"enabled\": True,\n",
    "        \"ema_span_min\": 1440,  # in minutes\n",
    "        \"ema_span_max\": 4320,\n",
    "        \"eprice_exp_base\": 1.3,\n",
    "        \"eprice_pprice_diff\": 0.01,\n",
    "        \"grid_span\": 0.1,\n",
    "        \"initial_qty_pct\": 0.01,\n",
    "        \"initial_eprice_ema_dist\": -0.01,  # negative is closer; positive is further away\n",
    "        \"markup_range\": 0.01,\n",
    "        \"max_n_entry_orders\": 10,\n",
    "        \"min_markup\": 0.01,\n",
    "        \"n_close_orders\": 7,\n",
    "        \"wallet_exposure_limit\": 0.5,\n",
    "        \"secondary_allocation\": 0.5,\n",
    "        \"secondary_pprice_diff\": 0.1,\n",
    "        \"auto_unstuck_wallet_exposure_threshold\": 0.1,  # percentage of wallet_exposure_limit to trigger auto unstuck.\n",
    "        # e.g. wallet_exposure_limit=0.06 and auto_unstuck_wallet_exposure_threshold=0.1: auto unstuck when wallet_exposure > 0.06 * (1 - 0.1) == 0.054\n",
    "        \"auto_unstuck_ema_dist\": 0.02,\n",
    "    },  # positive is further away; negative is closer\n",
    "    \"short\": {\n",
    "        \"enabled\": True,\n",
    "        \"ema_span_min\": 1440,  # in minutes\n",
    "        \"ema_span_max\": 4320,\n",
    "        \"eprice_exp_base\": 1.3,\n",
    "        \"eprice_pprice_diff\": 0.01,\n",
    "        \"grid_span\": 0.3,\n",
    "        \"initial_qty_pct\": 0.01,\n",
    "        \"initial_eprice_ema_dist\": -0.01,  # negative is closer; positive is further away\n",
    "        \"markup_range\": 0.01,\n",
    "        \"max_n_entry_orders\": 10,\n",
    "        \"min_markup\": 0.01,\n",
    "        \"n_close_orders\": 7,\n",
    "        \"wallet_exposure_limit\": 0.5,\n",
    "        \"secondary_allocation\": 0.5,\n",
    "        \"secondary_pprice_diff\": 0.1,\n",
    "        \"auto_unstuck_wallet_exposure_threshold\": 0.1,\n",
    "        \"auto_unstuck_ema_dist\": 0.02,\n",
    "    },\n",
>>>>>>> 7e0e481b73e854669d0969660cee042a8af58570
    "}\n",
    "\n",
    "# hand_tuned = load_live_config('configs/live/allround.json')\n",
    "# hand_tuned['short']['enabled'] = True\n",
    "config[\"starting_balance\"] = Args().starting_balance\n",
    "config[\"latency_simulation_ms\"] = 1000\n",
    "config_to_test = {**config, **numpyize(hand_tuned)}\n",
    "dump_live_config(config_to_test, make_get_filepath(f\"tmp/hand_tuned.json\"))\n",
    "hand_tuned"
   ]
  },
  {
   "cell_type": "code",
   "execution_count": null,
   "id": "ae548255-251f-42cc-a7d9-e7d7b8460a16",
   "metadata": {
    "tags": []
   },
   "outputs": [],
   "source": [
    "sts = time()\n",
    "fills, stats = backtest(config_to_test, dataslice)\n",
    "elapsed = time() - sts\n",
    "print(f\"seconds elapsed {elapsed:.4f}\")\n",
    "fdf, sdf, analysis = analyze_fills(fills, stats, config_to_test)\n",
    "pprint.pprint(analysis)\n",
    "fdf"
   ]
  },
  {
   "cell_type": "code",
   "execution_count": null,
   "id": "1c2d6679-1ee7-4016-8c25-9c1163870bf7",
   "metadata": {},
   "outputs": [],
   "source": [
    "sdf"
   ]
  },
  {
   "cell_type": "code",
   "execution_count": null,
   "id": "c9d89e7e-8d14-4722-b5ad-4346dc120b6a",
   "metadata": {},
   "outputs": [],
   "source": [
    "sdf.balance.plot()\n",
    "sdf.equity.plot(title=\"Balance and equity\", xlabel=\"Time\", ylabel=\"Balance\")"
   ]
  },
  {
   "cell_type": "code",
   "execution_count": null,
   "id": "32b2dc74-24e4-487b-bdcb-d30281e3cf12",
   "metadata": {},
   "outputs": [],
   "source": [
    "plot_fills(df, fdf, plot_whole_df=True, title=\"Overview Fills\")"
   ]
  },
  {
   "cell_type": "code",
   "execution_count": null,
   "id": "4aa9d609-ccd2-4ae5-862e-0d8758ee4953",
   "metadata": {},
   "outputs": [],
   "source": [
    "fdf[fdf.psize > 0.0].psize.plot(\n",
    "    title=\"Position size in terms of contracts\",\n",
    "    xlabel=\"Time\",\n",
    "    ylabel=\"Long Position size\",\n",
    ")\n",
    "fdf[fdf.psize < 0.0].psize.plot(\n",
    "    title=\"Position size in terms of contracts\",\n",
    "    xlabel=\"Time\",\n",
    "    ylabel=\"Short Position size\",\n",
    ")"
   ]
  },
  {
   "cell_type": "code",
   "execution_count": null,
   "id": "9cad96ab-9268-4b08-9d08-e77d8b46e140",
   "metadata": {},
   "outputs": [],
   "source": [
    "sdf.price.plot(title=\"Average entry price\", xlabel=\"Time\", ylabel=\"Price\")\n",
    "sdf.long_pprice.replace(0.0, np.nan).plot()\n",
    "sdf.short_pprice.replace(0.0, np.nan).plot()"
   ]
  },
  {
   "cell_type": "code",
   "execution_count": null,
   "id": "3ff902c7-a17a-4a48-8069-55f9c1c6e05d",
   "metadata": {},
   "outputs": [],
   "source": [
    "lpprices = sdf[sdf.long_pprice != 0.0]\n",
    "pa_distance_long = (lpprices.long_pprice - lpprices.price).abs() / lpprices.price\n",
    "print(f\"Mean price action distance long {pa_distance_long.mean():.6f}\")\n",
    "pa_distance_long.plot(title=\"Price action distance\", xlabel=\"Time\", ylabel=\"Price action distance\")"
   ]
  },
  {
   "cell_type": "code",
   "execution_count": null,
   "id": "020a2772-ecf9-4885-91e1-87f859bd2440",
   "metadata": {},
   "outputs": [],
   "source": [
    "spprices = sdf[sdf.short_pprice != 0.0]\n",
    "pa_distance_short = (spprices.short_pprice - spprices.price).abs() / spprices.price\n",
    "print(f\"Mean price action distance short {pa_distance_short.mean():.6f}\")\n",
    "pa_distance_short.plot(title=\"Price action distance\", xlabel=\"Time\", ylabel=\"Price action distance\")"
   ]
  },
  {
   "cell_type": "code",
   "execution_count": null,
   "id": "bc9a54ff-d102-4765-9f95-1bb0c399ed72",
   "metadata": {},
   "outputs": [],
   "source": [
    "# Inspect long EMAs\n",
    "# blue: lower unstucking; red: upper unstucking; green: initial entry\n",
    "spans = [\n",
    "    config_to_test[\"long\"][\"ema_span_min\"],\n",
    "    (config_to_test[\"long\"][\"ema_span_min\"] * config_to_test[\"long\"][\"ema_span_max\"]) ** 0.5,\n",
    "    config_to_test[\"long\"][\"ema_span_max\"],\n",
    "]\n",
    "print(\n",
    "    f\"spans in minutes {spans}\",\n",
    "    f\"n_days {(df.index[-1] - df.index[0]) / 1000 / 60 / 60 / 24:.1f}\",\n",
    ")\n",
    "for i in range(3):\n",
    "    # change to seconds\n",
    "    spans[i] *= 60\n",
    "emas = pd.DataFrame({str(span): df.price.ewm(span=span, adjust=False).mean() for span in spans})\n",
    "ema_band_lower = emas.min(axis=1)\n",
    "unstucking_band_lower = ema_band_lower * (1 - config_to_test[\"long\"][\"auto_unstuck_ema_dist\"])\n",
    "ema_band_upper = emas.max(axis=1)\n",
    "unstucking_band_upper = ema_band_upper * (1 + config_to_test[\"long\"][\"auto_unstuck_ema_dist\"])\n",
    "long_ientry_band = ema_band_lower * (1 - config_to_test[\"long\"][\"initial_eprice_ema_dist\"])\n",
    "df.iloc[::100].price.plot(style=\"y-\", title=\"Unstucking Bands and Initial Entry Band\")\n",
    "unstucking_band_lower.iloc[::100].plot(\n",
    "    style=\"b--\",\n",
    ")\n",
    "unstucking_band_upper.iloc[::100].plot(style=\"r--\")\n",
    "long_ientry_band.iloc[::100].plot(style=\"g-.\")"
   ]
  },
  {
   "cell_type": "code",
   "execution_count": null,
   "id": "649a0610-84cb-4012-997c-b1a5c6c21228",
   "metadata": {},
   "outputs": [],
   "source": [
    "# Inspect short EMAs\n",
    "# blue: lower unstucking; red: upper unstucking; green: initial entry\n",
    "spans = [\n",
    "    config_to_test[\"short\"][\"ema_span_min\"],\n",
    "    (config_to_test[\"short\"][\"ema_span_min\"] * config_to_test[\"short\"][\"ema_span_max\"]) ** 0.5,\n",
    "    config_to_test[\"short\"][\"ema_span_max\"],\n",
    "]\n",
    "print(\n",
    "    f\"spans in minutes {spans}\",\n",
    "    f\"n_days {(df.index[-1] - df.index[0]) / 1000 / 60 / 60 / 24:.1f}\",\n",
    ")\n",
    "for i in range(3):\n",
    "    # change to seconds\n",
    "    spans[i] *= 60\n",
    "emas = pd.DataFrame({str(span): df.price.ewm(span=span, adjust=False).mean() for span in spans})\n",
    "ema_band_lower = emas.min(axis=1)\n",
    "unstucking_band_lower = ema_band_lower * (1 - config_to_test[\"short\"][\"auto_unstuck_ema_dist\"])\n",
    "ema_band_upper = emas.max(axis=1)\n",
    "unstucking_band_upper = ema_band_upper * (1 + config_to_test[\"short\"][\"auto_unstuck_ema_dist\"])\n",
    "short_ientry_band = ema_band_upper * (1 + config_to_test[\"short\"][\"initial_eprice_ema_dist\"])\n",
    "df.iloc[::100].price.plot(style=\"y-\", title=\"Unstucking Bands and Initial Entry Band\")\n",
    "unstucking_band_lower.iloc[::100].plot(style=\"b--\")\n",
    "unstucking_band_upper.iloc[::100].plot(style=\"r--\")\n",
    "short_ientry_band.iloc[::100].plot(style=\"g-.\")"
   ]
  },
  {
   "cell_type": "code",
   "execution_count": null,
   "id": "d03397cb-a36d-4b93-b16e-c89e0704a898",
   "metadata": {},
   "outputs": [],
   "source": [
    "balance = config_to_test[\"starting_balance\"]\n",
    "highest_bid = df.price.iloc[-1]\n",
    "\n",
    "inverse = config_to_test[\"inverse\"]\n",
    "do_long = True\n",
    "qty_step = config_to_test[\"qty_step\"]\n",
    "price_step = config_to_test[\"price_step\"]\n",
    "min_qty = config_to_test[\"min_qty\"]\n",
    "min_cost = config_to_test[\"min_cost\"]\n",
    "c_mult = config_to_test[\"c_mult\"]\n",
    "\n",
    "grid_span = config_to_test[\"long\"][\"grid_span\"]\n",
    "wallet_exposure_limit = config_to_test[\"long\"][\"wallet_exposure_limit\"]\n",
    "max_n_entry_orders = config_to_test[\"long\"][\"max_n_entry_orders\"]\n",
    "initial_qty_pct = config_to_test[\"long\"][\"initial_qty_pct\"]\n",
    "eprice_pprice_diff = config_to_test[\"long\"][\"eprice_pprice_diff\"]\n",
    "eprice_exp_base = config_to_test[\"long\"][\"eprice_exp_base\"]\n",
    "secondary_allocation = config_to_test[\"long\"][\"secondary_allocation\"]\n",
    "secondary_pprice_diff = config_to_test[\"long\"][\"secondary_pprice_diff\"]\n",
    "\n",
    "grid = calc_whole_long_entry_grid(\n",
    "    balance,\n",
    "    highest_bid,\n",
    "    inverse,\n",
    "    qty_step,\n",
    "    price_step,\n",
    "    min_qty,\n",
    "    min_cost,\n",
    "    c_mult,\n",
    "    grid_span,\n",
    "    wallet_exposure_limit,\n",
    "    max_n_entry_orders,\n",
    "    initial_qty_pct,\n",
    "    eprice_pprice_diff,\n",
    "    secondary_allocation,\n",
    "    secondary_pprice_diff,\n",
    "    eprice_exp_base=eprice_exp_base,\n",
    ")\n",
    "gdf = pd.DataFrame(grid, columns=[\"qty\", \"price\", \"psize\", \"pprice\", \"wallet_exposure\"])\n",
    "\n",
    "gdf.loc[:, \"eprice_pprice_diff\"] = abs(gdf.price - gdf.pprice) / gdf.price\n",
    "gdf.loc[:, \"ddown_factor\"] = gdf.qty / gdf.psize.shift()\n",
    "gdf.loc[:, \"bkr_price\"] = gdf.apply(\n",
    "    lambda x: calc_bankruptcy_price(balance, x.psize, x.pprice, 0.0, 0.0, inverse, c_mult),\n",
    "    axis=1,\n",
    ")\n",
    "colors = \"rbygcmk\"\n",
    "\n",
    "# Display grid on graph\n",
    "# -- = pprice = new position price\n",
    "# - = price = DCA entry\n",
    "timedt = pd.to_datetime(timestamps, unit=\"ms\")\n",
    "dfx = pd.DataFrame({\"timestamp\": timedt, \"qty\": qtys, \"price\": prices}).set_index(\"timestamp\")\n",
    "lastdayfrom = pd.to_datetime(Args().end_date)\n",
    "# lastdayfrom = pd.Timestamp('2021-05-21')\n",
    "plt = (\n",
    "    dfx.price.loc[lastdayfrom - pd.Timedelta(days=280) : lastdayfrom]\n",
    "    .iloc[::100]\n",
    "    .plot(title=\"Grid position\", xlabel=\"Time\", ylabel=\"Price\")\n",
    ")\n",
    "for i, e in enumerate(gdf.itertuples()):\n",
    "    plt.axhline(y=e.price, color=f\"{colors[i%len(colors)]}\", linestyle=\"-\")\n",
    "    # plt.axhline(y=e.pprice, color=f\"{colors[i%len(colors)]}\", linestyle=\"--\")"
   ]
  },
  {
   "cell_type": "code",
   "execution_count": null,
   "id": "59ab95c9-de49-416a-b6a5-e633e2faf2c0",
   "metadata": {},
   "outputs": [],
   "source": [
    "a = (1 - gdf.iloc[[0, -1]][\"price\"].iat[-1] / gdf.iloc[[0, -1]][\"price\"].iat[0]) * 100\n",
    "print(\"\\nLong Grid Span = {:.2f} %\\n\".format(round(a, 2)))\n",
    "gdf"
   ]
  },
  {
   "cell_type": "code",
   "execution_count": null,
   "id": "25a76968-1de8-44cf-b50b-8124c2b3917c",
   "metadata": {},
   "outputs": [],
   "source": [
    "balance = config_to_test[\"starting_balance\"]\n",
    "lowest_ask = df.price.iloc[-1]\n",
    "\n",
    "inverse = config_to_test[\"inverse\"]\n",
    "do_short = True\n",
    "qty_step = config_to_test[\"qty_step\"]\n",
    "price_step = config_to_test[\"price_step\"]\n",
    "min_qty = config_to_test[\"min_qty\"]\n",
    "min_cost = config_to_test[\"min_cost\"]\n",
    "c_mult = config_to_test[\"c_mult\"]\n",
    "\n",
    "grid_span = config_to_test[\"short\"][\"grid_span\"]\n",
    "wallet_exposure_limit = config_to_test[\"short\"][\"wallet_exposure_limit\"]\n",
    "max_n_entry_orders = config_to_test[\"short\"][\"max_n_entry_orders\"]\n",
    "initial_qty_pct = config_to_test[\"short\"][\"initial_qty_pct\"]\n",
    "eprice_pprice_diff = config_to_test[\"short\"][\"eprice_pprice_diff\"]\n",
    "eprice_exp_base = config_to_test[\"short\"][\"eprice_exp_base\"]\n",
    "secondary_allocation = config_to_test[\"short\"][\"secondary_allocation\"]\n",
    "secondary_pprice_diff = config_to_test[\"short\"][\"secondary_pprice_diff\"]\n",
    "\n",
    "grid = calc_whole_short_entry_grid(\n",
    "    balance,\n",
    "    highest_bid,\n",
    "    inverse,\n",
    "    qty_step,\n",
    "    price_step,\n",
    "    min_qty,\n",
    "    min_cost,\n",
    "    c_mult,\n",
    "    grid_span,\n",
    "    wallet_exposure_limit,\n",
    "    max_n_entry_orders,\n",
    "    initial_qty_pct,\n",
    "    eprice_pprice_diff,\n",
    "    secondary_allocation,\n",
    "    secondary_pprice_diff,\n",
    "    eprice_exp_base=eprice_exp_base,\n",
    ")\n",
    "gdf = pd.DataFrame(grid, columns=[\"qty\", \"price\", \"psize\", \"pprice\", \"wallet_exposure\"])\n",
    "\n",
    "gdf.loc[:, \"eprice_pprice_diff\"] = abs(gdf.price - gdf.pprice) / gdf.price\n",
    "gdf.loc[:, \"ddown_factor\"] = gdf.qty / gdf.psize.shift()\n",
    "gdf.loc[:, \"bkr_price\"] = gdf.apply(\n",
    "    lambda x: calc_bankruptcy_price(balance, x.psize, x.pprice, 0.0, 0.0, inverse, c_mult),\n",
    "    axis=1,\n",
    ")\n",
    "colors = \"rbygcmk\"\n",
    "\n",
    "# Display grid on graph\n",
    "# -- = pprice = new position price\n",
    "# - = price = DCA entry\n",
    "timedt = pd.to_datetime(timestamps, unit=\"ms\")\n",
    "dfx = pd.DataFrame({\"timestamp\": timedt, \"qty\": qtys, \"price\": prices}).set_index(\"timestamp\")\n",
    "lastdayfrom = pd.to_datetime(Args().end_date)\n",
    "# lastdayfrom = pd.Timestamp('2021-05-21')\n",
    "plt = (\n",
    "    dfx.price.loc[lastdayfrom - pd.Timedelta(days=280) : lastdayfrom]\n",
    "    .iloc[::100]\n",
    "    .plot(title=\"Grid position\", xlabel=\"Time\", ylabel=\"Price\")\n",
    ")\n",
    "for i, e in enumerate(gdf.itertuples()):\n",
    "    plt.axhline(y=e.price, color=f\"{colors[i%len(colors)]}\", linestyle=\"-\")\n",
    "    # plt.axhline(y=e.pprice, color=f\"{colors[i%len(colors)]}\", linestyle=\"--\")"
   ]
  },
  {
   "cell_type": "code",
   "execution_count": null,
   "id": "ab479aaf-abfb-4f2a-86ae-328b3d6418cb",
   "metadata": {},
   "outputs": [],
   "source": [
    "a = (1 - gdf.iloc[[0, -1]][\"price\"].iat[-1] / gdf.iloc[[0, -1]][\"price\"].iat[0]) * 100\n",
    "print(\"\\nShort Grid Span = {:.2f} %\\n\".format(round(a, 2)))\n",
    "gdf"
   ]
  },
  {
   "cell_type": "code",
   "execution_count": null,
   "id": "d72b36d8-43b1-4d8f-a3c7-c0b50d9f21f1",
   "metadata": {},
   "outputs": [],
   "source": []
  },
  {
   "cell_type": "code",
   "execution_count": null,
   "id": "84ea02bc-930d-4197-89b7-2e8cfd9ca30b",
   "metadata": {},
   "outputs": [],
   "source": []
  },
  {
   "cell_type": "code",
   "execution_count": null,
   "id": "2dad6216-d8ca-4d7f-9705-bc6e62ee097b",
   "metadata": {},
   "outputs": [],
   "source": []
  }
 ],
 "metadata": {
  "kernelspec": {
   "display_name": "Python 3 (ipykernel)",
   "language": "python",
   "name": "python3"
  },
  "language_info": {
   "codemirror_mode": {
    "name": "ipython",
    "version": 3
   },
   "file_extension": ".py",
   "mimetype": "text/x-python",
   "name": "python",
   "nbconvert_exporter": "python",
   "pygments_lexer": "ipython3",
   "version": "3.9.7"
  }
 },
 "nbformat": 4,
 "nbformat_minor": 5
}
